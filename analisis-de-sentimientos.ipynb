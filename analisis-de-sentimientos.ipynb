{
 "cells": [
  {
   "cell_type": "markdown",
   "metadata": {},
   "source": [
    "# Análisis de sentimientos\n",
    "En este cuaderno utilizaremos un modelo especializado en detectar *sentimientos* de los comentarios de un juego se Steam.\n"
   ]
  },
  {
   "cell_type": "code",
   "execution_count": 55,
   "metadata": {},
   "outputs": [],
   "source": [
    "import os\n",
    "import requests\n",
    "import json"
   ]
  },
  {
   "cell_type": "markdown",
   "metadata": {},
   "source": [
    "### Obtención de lista de juegos y su appid"
   ]
  },
  {
   "cell_type": "code",
   "execution_count": 56,
   "metadata": {},
   "outputs": [],
   "source": [
    "# Si no tenemos el archivo steam-games.json lo solicitamos a la api y lo generamos.\n",
    "if not os.path.exists('steam-games.json'):\n",
    "  # Url del endpoint\n",
    "  gameListUrl = \"https://api.steampowered.com/ISteamApps/GetAppList/v2/\"\n",
    "\n",
    "  # Realizar la solicitud GET\n",
    "  response = requests.get(gameListUrl)\n",
    "\n",
    "  # Verificar si la solicitud fue exitosa\n",
    "  if response.status_code == 200:\n",
    "    # Obtener el contenido JSON de la respuesta\n",
    "    data = response.json()\n",
    "    \n",
    "    # Guardar el JSON en un archivo\n",
    "    with open('steam-games.json', 'w') as file:\n",
    "      json.dump(data, file)\n",
    "    \n",
    "    # Cierro el archivo\n",
    "    file.close()\n",
    "  else:\n",
    "    print(\"Error al realizar la solicitud:\", response.status_code)"
   ]
  },
  {
   "cell_type": "markdown",
   "metadata": {},
   "source": [
    "### Buscador para obtener el appid dado el nombrede un juego.\n",
    "\n",
    "Si ya sabemos el appid del juego podemos saltarnos esta celda e introducirlo en el input de la siguente."
   ]
  },
  {
   "cell_type": "code",
   "execution_count": 74,
   "metadata": {},
   "outputs": [],
   "source": [
    "def buscar_appid(game_name):\n",
    "  # Cargar los datos del archivo JSON\n",
    "  with open('steam-games.json', 'r') as file:\n",
    "    data = json.load(file)\n",
    "\n",
    "  # Cerrar el archivo\n",
    "  file.close()\n",
    "\n",
    "  # Obtener la lista de juegos\n",
    "  games = data['applist']['apps']\n",
    "\n",
    "  # Buscar coincidencias exactas al inicio del nombre\n",
    "  matches_start = [game for game in games if game['name'].lower().startswith(game_name.lower())]\n",
    "\n",
    "  # Si no hay coincidencias exactas al inicio, buscar coincidencias en cualquier parte del nombre\n",
    "  if len(matches_start) == 0:\n",
    "    matches_contain = [game for game in games if game_name.lower() in game['name'].lower()]\n",
    "  else:\n",
    "    matches_contain = []\n",
    "\n",
    "  matches = matches_start + matches_contain\n",
    "\n",
    "  # Si no hay coincidencias, solicitar de nuevo\n",
    "  while len(matches) == 0:\n",
    "    print(\"No se encontraron coincidencias exactas. Inténtalo de nuevo.\\n\")\n",
    "    game_name = input(\"Introduce el nombre del juego: \")\n",
    "    matches_start = [game for game in games if game['name'].lower().startswith(game_name.lower())]\n",
    "    if len(matches_start) == 0:\n",
    "      matches_contain = [game for game in games if game_name.lower() in game['name'].lower()]\n",
    "    else:\n",
    "      matches_contain = []\n",
    "    matches = matches_start + matches_contain\n",
    "\n",
    "  if len(matches) == 1 and matches[0]['name'].lower() == game_name.lower():\n",
    "    appid = matches[0]['appid']\n",
    "    print(f\"El appid del juego '{game_name}' es: {matches[0]['appid']}\")\n",
    "  else:\n",
    "    print(\"Se encontraron varias coincidencias:\")\n",
    "    for i, match in enumerate(matches[:5]):\n",
    "      if i == len(matches[:5]) - 1:\n",
    "        print(f\"{i + 1}. {match['name']}\\n\")\n",
    "      else:\n",
    "        print(f\"{i + 1}. {match['name']}\")\n",
    "\n",
    "    # Solicitar al usuario que elija una opción\n",
    "    choice = int(input(\"Elige el número correspondiente al juego: \")) - 1\n",
    "\n",
    "    # Devolver el appid del juego elegido\n",
    "    if 0 <= choice < len(matches):\n",
    "      print(f\"El appid del juego '{matches[choice]['name']}' es: {matches[choice]['appid']}\")\n",
    "      appid = matches[choice]['appid']\n",
    "    else:\n",
    "      print(\"Opción no válida.\")\n",
    "      appid = None\n",
    "\n",
    "  return appid"
   ]
  },
  {
   "cell_type": "markdown",
   "metadata": {},
   "source": [
    "### Extracción de reviews de dicho juego\n",
    "Extraemos las reviews más relevantes  de los juegos, extraemos un máximo de 100 reviews"
   ]
  },
  {
   "cell_type": "code",
   "execution_count": 77,
   "metadata": {},
   "outputs": [
    {
     "name": "stdout",
     "output_type": "stream",
     "text": [
      "Se encontraron varias coincidencias:\n",
      "1. Fox and Shadow\n",
      "2. Fox Goes Hunting ™\n",
      "3. Foxnox\n",
      "4. Fox of the moon\n",
      "5. Foxblade Prologue\n",
      "\n",
      "El appid del juego 'Fox and Shadow' es: 2134370\n",
      "El juego no tiene reviews. Por favor, introduce otro appid o busca el appid por el nombre del juego.\n",
      "Se encontraron varias coincidencias:\n",
      "1. Fox and Shadow\n",
      "2. Fox Goes Hunting ™\n",
      "3. Foxnox\n",
      "4. Fox of the moon\n",
      "5. Foxblade Prologue\n",
      "\n",
      "El appid del juego 'Fox Goes Hunting ™' es: 1720860\n",
      "Se han cargado 2 reviews.\n"
     ]
    }
   ],
   "source": [
    "def obtener_reviews(appid):\n",
    "    gameReviewsUrl = f\"https://store.steampowered.com/appreviews/{appid}?json=1&language=english&num_per_page=100\"\n",
    "    response = requests.get(gameReviewsUrl)\n",
    "\n",
    "    if response.status_code == 200:\n",
    "        data = response.json()\n",
    "    else:\n",
    "        print(\"Error al realizar la solicitud:\", response.status_code)\n",
    "        return None, None\n",
    "\n",
    "    return data, gameReviewsUrl\n",
    "\n",
    "def solicitar_appid():\n",
    "    choice = input(\"Introduce el appid del juego o el nombre del juego: \")\n",
    "\n",
    "    if choice.isdigit():\n",
    "        return int(choice)\n",
    "    else:\n",
    "        return buscar_appid(choice)\n",
    "\n",
    "# Bucle para solicitar appid o nombre del juego hasta encontrar uno con reviews o el usuario introduzca -1\n",
    "while True:\n",
    "    # Solicitar appid o nombre del juego\n",
    "    appid = solicitar_appid()\n",
    "\n",
    "    # Verificar si el usuario desea salir\n",
    "    if appid == -1:\n",
    "        print(\"Saliendo del programa.\")\n",
    "        break\n",
    "\n",
    "    # Obtener reviews\n",
    "    data, gameReviewsUrl = obtener_reviews(appid)\n",
    "\n",
    "    # Comprobar si el juego tiene reviews\n",
    "    if data['query_summary']['total_reviews'] == 0:\n",
    "        print(\"El juego no tiene reviews. Por favor, introduce otro appid o busca el appid por el nombre del juego.\")\n",
    "    else:\n",
    "        reviews = data['reviews']\n",
    "        num_reviews = len(reviews)\n",
    "        if num_reviews == 100:\n",
    "            print(f\"Se han cargado {num_reviews} reviews (max).\")\n",
    "        else:\n",
    "            print(f\"Se han cargado {num_reviews} reviews.\")\n",
    "        break\n"
   ]
  },
  {
   "cell_type": "markdown",
   "metadata": {},
   "source": [
    "### Detección de sentimientos\n",
    "En este apartado analizamos los sentimientos de cada una de las reviews cargadas y finalmente estableceremos un valor promedio para valorar el juego."
   ]
  },
  {
   "cell_type": "code",
   "execution_count": 59,
   "metadata": {},
   "outputs": [],
   "source": [
    "#%pip install torch\n",
    "#%pip install transformers"
   ]
  },
  {
   "cell_type": "code",
   "execution_count": 60,
   "metadata": {},
   "outputs": [
    {
     "name": "stderr",
     "output_type": "stream",
     "text": [
      "No model was supplied, defaulted to distilbert/distilbert-base-uncased-finetuned-sst-2-english and revision 714eb0f (https://huggingface.co/distilbert/distilbert-base-uncased-finetuned-sst-2-english).\n",
      "Using a pipeline without specifying a model name and revision in production is not recommended.\n"
     ]
    }
   ],
   "source": [
    "from transformers import pipeline\n",
    "\n",
    "cls = pipeline('sentiment-analysis')"
   ]
  },
  {
   "cell_type": "code",
   "execution_count": 78,
   "metadata": {},
   "outputs": [
    {
     "name": "stdout",
     "output_type": "stream",
     "text": [
      "Sentimiento predominante: VERY NEGATIVE 💩\n",
      "\n",
      "Conteo de reviews por categoría:\n",
      "Positivas: 0\n",
      "Negativas: 2\n",
      "Neutrales: 0\n"
     ]
    }
   ],
   "source": [
    "# Truncar las reviews a un máximo de 512 caracteres\n",
    "max_length = 512\n",
    "truncated_reviews = [review['review'][:max_length] for review in reviews]\n",
    "\n",
    "# Obtener los resultados de análisis de sentimiento de cada review\n",
    "results = [cls(review)[0] for review in truncated_reviews]\n",
    "\n",
    "# Calculo el peso de cada sentimiento y el conteo de cada categoría\n",
    "sentiment_scores = {'POSITIVE': 0, 'NEGATIVE': 0, 'NEUTRAL': 0}\n",
    "sentiment_counts = {'POSITIVE': 0, 'NEGATIVE': 0, 'NEUTRAL': 0}\n",
    "for result in results:\n",
    "    label = result['label']\n",
    "    score = result['score']\n",
    "    sentiment_scores[label] += score\n",
    "    sentiment_counts[label] += 1\n",
    "\n",
    "# Calculo el sentimiento predominante\n",
    "total_score = sum(sentiment_scores.values())\n",
    "weighted_sentiment = {k: v / total_score for k, v in sentiment_scores.items()}\n",
    "\n",
    "# Sacamos un sentimiento medio en forma de texto\n",
    "if weighted_sentiment['POSITIVE'] >= 0.85:\n",
    "    overall_sentiment = 'VERY POSITIVE 🎉'\n",
    "elif weighted_sentiment['POSITIVE'] >= 0.5:\n",
    "    overall_sentiment = 'POSITIVE 👍🏻'\n",
    "elif weighted_sentiment['NEGATIVE'] >= 0.85:\n",
    "    overall_sentiment = 'VERY NEGATIVE 💩'\n",
    "elif weighted_sentiment['NEGATIVE'] >= 0.5:\n",
    "    overall_sentiment = 'NEGATIVE 👎🏻'\n",
    "else:\n",
    "    overall_sentiment = 'NEUTRAL 🤷🏻‍♀️'\n",
    "\n",
    "# Mostramos los resultados\n",
    "print(f\"Sentimiento predominante: {overall_sentiment}\")\n",
    "print(f\"\\nConteo de reviews por categoría:\")\n",
    "print(f\"Positivas: {sentiment_counts['POSITIVE']}\")\n",
    "print(f\"Negativas: {sentiment_counts['NEGATIVE']}\")\n",
    "print(f\"Neutrales: {sentiment_counts['NEUTRAL']}\")"
   ]
  }
 ],
 "metadata": {
  "kernelspec": {
   "display_name": "Python 3",
   "language": "python",
   "name": "python3"
  },
  "language_info": {
   "codemirror_mode": {
    "name": "ipython",
    "version": 3
   },
   "file_extension": ".py",
   "mimetype": "text/x-python",
   "name": "python",
   "nbconvert_exporter": "python",
   "pygments_lexer": "ipython3",
   "version": "3.12.7"
  }
 },
 "nbformat": 4,
 "nbformat_minor": 2
}
